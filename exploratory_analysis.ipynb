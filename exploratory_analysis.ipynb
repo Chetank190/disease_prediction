{
 "cells": [
  {
   "cell_type": "markdown",
   "metadata": {},
   "source": [
    "# Disease Classification using Machine Learning"
   ]
  },
  {
   "cell_type": "markdown",
   "metadata": {},
   "source": [
    "# Table of Contents\n",
    "\n",
    "1. [Introduction](#Introduction)\n",
    "    - [Overview of the Dataset](#Overview-of-the-Dataset)\n",
    "    - [Objectives of the Analysis](#Objectives-of-the-Analysis)\n",
    "2. [Data Loading](#Data-Loading)\n",
    "    - [Importing Libraries](#Importing-Libraries)\n",
    "    - [Loading the Dataset](#Loading-the-Dataset)\n",
    "3. [Data Inspection](#Data-Inspection)\n",
    "    - [Initial Data Exploration](#Initial-Data-Exploration)\n",
    "    - [Overview of Dataset](#Overview-of-Dataset)\n",
    "    - [Data Information](#Data-Information)\n",
    "    - [Analyzing Prognosis Distribution for Potential Class Imbalance](#class-imbalance-analysis)\n",
    "    - [Summary Statistics](#Summary-Statistics)\n",
    "    - [Missing Values](#Missing-Values)\n",
    "    - [Duplicate Records](#Duplicate-Records)\n",
    "4. [Data Transformation](#Data-Transformation)\n",
    "    - [Feature Engineering](#Feature-Engineering)\n",
    "5. [Data Visualization](#Data-Visualization)\n",
    "    - [Symptom Frequency Distribution](#Sympton-Frequency-Distribution)"
   ]
  },
  {
   "cell_type": "markdown",
   "metadata": {},
   "source": [
    "# Introduction\n",
    "<a id=\"Introduction\"></a>\n",
    "\n",
    "## Overview of the Dataset\n",
    "<a id=\"Overview-of-the-Dataset\"></a>\n",
    "In this project, we aim to predict the disease by analyzing different symptoms a person experiences, this is captured in the last column name 'prognosis'. We have around 132 parameters on which 42 different types of diseases can be predicted. \n",
    "\n",
    "\n",
    "## Objectives of the Analysis\n",
    "<a id=\"Objectives-of-the-Analysis\"></a>\n",
    "The primary objective of this project is to develop a machine-learning model that can accurately classify and cluster diseases based on patient's symptoms. This can be used to a helping tool for medical staff to help patients all around the world. Best features should be identifies while creating of the ML model."
   ]
  },
  {
   "cell_type": "markdown",
   "metadata": {},
   "source": [
    "### Data Loading\n"
   ]
  },
  {
   "cell_type": "markdown",
   "metadata": {},
   "source": [
    "##### import Libraries"
   ]
  },
  {
   "cell_type": "code",
   "execution_count": null,
   "metadata": {},
   "outputs": [],
   "source": [
    "import numpy as np\n",
    "import pandas as pd\n",
    "import matplotlib.pyplot as plt\n",
    "import seaborn as sns\n",
    "import matplotlib.colors as mcolors\n",
    "from mpl_toolkits import mplot3d \n",
    "from sklearn.preprocessing import LabelEncoder\n",
    "from sklearn.model_selection import train_test_split \n",
    "import missingno as msno"
   ]
  },
  {
   "cell_type": "code",
   "execution_count": null,
   "metadata": {},
   "outputs": [],
   "source": [
    "def read_train_data (train_file_path):\n",
    "    # Load data and convert to pd\n",
    "    train = pd.read_csv(train_file_path)\n",
    "    return train\n",
    "\n",
    "def read_test_data (test_file_path):\n",
    "    # Load data and convert to pd\n",
    "    test = pd.read_csv(test_file_path)\n",
    "    return test"
   ]
  },
  {
   "cell_type": "markdown",
   "metadata": {},
   "source": [
    "##### Loading the Dataset\n"
   ]
  },
  {
   "cell_type": "code",
   "execution_count": null,
   "metadata": {},
   "outputs": [],
   "source": [
    "train_data = read_train_data(\"data/Training.csv\")\n",
    "test_data = read_test_data(\"data/Testing.csv\")"
   ]
  },
  {
   "cell_type": "markdown",
   "metadata": {},
   "source": [
    "# Data Inspection\n",
    "<a id=\"Data-Inspection\"></a>\n",
    "## Initial Data Exploration\n",
    "<a id=\"Initial-Data-Exploration\"></a>\n"
   ]
  },
  {
   "cell_type": "markdown",
   "metadata": {},
   "source": [
    "## Overview of Dataset\n",
    "<a id=\"Overview-of-Dataset\"></a>"
   ]
  },
  {
   "cell_type": "markdown",
   "metadata": {},
   "source": [
    "## Data Information\n",
    "<a id=\"Data-Information\"></a>"
   ]
  },
  {
   "cell_type": "markdown",
   "metadata": {},
   "source": [
    "## Analyzing Prognosis Distribution for Potential Class Imbalance\n",
    "<a id=\"class-imbalance-analysis\"></a>"
   ]
  },
  {
   "cell_type": "markdown",
   "metadata": {},
   "source": [
    "## Summary Statistics\n",
    "<a id=\"Summary-Statistics\"></a>\n"
   ]
  },
  {
   "cell_type": "markdown",
   "metadata": {},
   "source": [
    "## Missing Values\n",
    "<a id=\"Missing-Values\"></a>"
   ]
  },
  {
   "cell_type": "markdown",
   "metadata": {},
   "source": [
    "# Data Transformation\n",
    "<a id=\"Data-Transformation\"></a>\n",
    "## Feature Engineering\n",
    "<a id=\"Feature-Engineering\"></a>\n"
   ]
  },
  {
   "cell_type": "markdown",
   "metadata": {},
   "source": [
    "# Data Visualization\n",
    "<a id=\"Data-Visualization\"></a>\n",
    "## Symptom Frequency Distribution\n",
    "<a id=\"Sympton-Frequency-Distribution\"></a>"
   ]
  }
 ],
 "metadata": {
  "kernelspec": {
   "display_name": "base",
   "language": "python",
   "name": "python3"
  },
  "language_info": {
   "codemirror_mode": {
    "name": "ipython",
    "version": 3
   },
   "file_extension": ".py",
   "mimetype": "text/x-python",
   "name": "python",
   "nbconvert_exporter": "python",
   "pygments_lexer": "ipython3",
   "version": "3.9.19"
  }
 },
 "nbformat": 4,
 "nbformat_minor": 2
}
